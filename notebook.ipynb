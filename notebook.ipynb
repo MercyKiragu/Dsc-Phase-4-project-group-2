{
 "cells": [
  {
   "cell_type": "markdown",
   "metadata": {},
   "source": [
    "## Final Project Submission\n",
    "\n",
    "Please fill out:\n",
    "\n",
    "* Student names: JEREMIAH WAIGURU,PAUL NGATIA,WINFRED BUNDI,MERCY KIRAGU.\n",
    "                 \n",
    "* Student pace: Full time-Hybrid\n",
    "* Scheduled project review date/time: \n",
    "* Instructor name: Maryann Mwikali\n",
    "* Blog post URL: \n"
   ]
  },
  {
   "cell_type": "markdown",
   "metadata": {},
   "source": [
    "## Data Preparation\n"
   ]
  },
  {
   "cell_type": "markdown",
   "metadata": {},
   "source": [
    "### Importing libraries\n"
   ]
  },
  {
   "cell_type": "code",
   "execution_count": 24,
   "metadata": {},
   "outputs": [],
   "source": [
    "import pandas as pd"
   ]
  },
  {
   "cell_type": "markdown",
   "metadata": {},
   "source": [
    "### Loading datasets"
   ]
  },
  {
   "cell_type": "code",
   "execution_count": 25,
   "metadata": {},
   "outputs": [
    {
     "name": "stdout",
     "output_type": "stream",
     "text": [
      "Movies DataFrame:\n",
      "   movieId                               title  \\\n",
      "0        1                    Toy Story (1995)   \n",
      "1        2                      Jumanji (1995)   \n",
      "2        3             Grumpier Old Men (1995)   \n",
      "3        4            Waiting to Exhale (1995)   \n",
      "4        5  Father of the Bride Part II (1995)   \n",
      "\n",
      "                                        genres  \n",
      "0  Adventure|Animation|Children|Comedy|Fantasy  \n",
      "1                   Adventure|Children|Fantasy  \n",
      "2                               Comedy|Romance  \n",
      "3                         Comedy|Drama|Romance  \n",
      "4                                       Comedy  \n",
      "\n",
      "Ratings DataFrame:\n",
      "   userId  movieId  rating  timestamp\n",
      "0       1        1     4.0  964982703\n",
      "1       1        3     4.0  964981247\n",
      "2       1        6     4.0  964982224\n",
      "3       1       47     5.0  964983815\n",
      "4       1       50     5.0  964982931\n",
      "\n",
      "Tags DataFrame:\n",
      "   userId  movieId              tag   timestamp\n",
      "0       2    60756            funny  1445714994\n",
      "1       2    60756  Highly quotable  1445714996\n",
      "2       2    60756     will ferrell  1445714992\n",
      "3       2    89774     Boxing story  1445715207\n",
      "4       2    89774              MMA  1445715200\n",
      "\n",
      "links DataFrame:\n",
      "   movieId  imdbId   tmdbId\n",
      "0        1  114709    862.0\n",
      "1        2  113497   8844.0\n",
      "2        3  113228  15602.0\n",
      "3        4  114885  31357.0\n",
      "4        5  113041  11862.0\n"
     ]
    }
   ],
   "source": [
    "\n",
    "class DataLoader:\n",
    "    def __init__(self, base_path):\n",
    "        self.base_path = base_path\n",
    "\n",
    "    def load_dataset(self, file_name):\n",
    "        return pd.read_csv(f'{self.base_path}/{file_name}')\n",
    "\n",
    "    def load_movies(self):\n",
    "        return self.load_dataset('movies.csv')\n",
    "\n",
    "    def load_ratings(self):\n",
    "        return self.load_dataset('ratings.csv')\n",
    "\n",
    "    def load_tags(self):\n",
    "        return self.load_dataset('tags.csv')\n",
    "\n",
    "    def load_links(self):\n",
    "        return self.load_dataset('links.csv')  \n",
    "\n",
    "# Initialize DataLoader and load datasets\n",
    "base_path = 'C:\\\\Users\\\\JEREMY\\\\Documents\\\\Dsc-Phase-4-project-group-4\\\\ml-latest-small' \n",
    "data_loader = DataLoader(base_path)\n",
    "\n",
    "movies = data_loader.load_movies()\n",
    "ratings = data_loader.load_ratings()\n",
    "tags = data_loader.load_tags()\n",
    "links = data_loader.load_links()\n",
    "\n",
    "# Display the first few rows of each dataset\n",
    "print(\"Movies DataFrame:\")\n",
    "print(movies.head())\n",
    "print(\"\\nRatings DataFrame:\")\n",
    "print(ratings.head())\n",
    "print(\"\\nTags DataFrame:\")\n",
    "print(tags.head())\n",
    "print(\"\\nlinks DataFrame:\")\n",
    "print(links.head())\n"
   ]
  },
  {
   "cell_type": "code",
   "execution_count": 26,
   "metadata": {},
   "outputs": [
    {
     "name": "stdout",
     "output_type": "stream",
     "text": [
      "Movies DataFrame Shape: (9742, 3)\n",
      "Ratings DataFrame Shape: (100836, 4)\n",
      "Tags DataFrame Shape: (3683, 4)\n",
      "Links DataFrame Shape: (9742, 3)\n"
     ]
    }
   ],
   "source": [
    "# function to check the shape of the datasets\n",
    "\n",
    "class DataLoader:\n",
    "    def __init__(self, datasets):\n",
    "        self.datasets = datasets\n",
    "\n",
    "    def check_shapes(self):\n",
    "        # Check the shape of each dataset\n",
    "        for name, df in self.datasets.items():\n",
    "            print(f\"{name} DataFrame Shape: {df.shape}\")\n",
    "\n",
    "# Pre-loaded datasets\n",
    "datasets = {\n",
    "    'Movies': movies,\n",
    "    'Ratings': ratings,\n",
    "    'Tags': tags,\n",
    "    'Links': links\n",
    "}\n",
    "\n",
    "# Initialize DataLoader with pre-loaded datasets\n",
    "data_loader = DataLoader(datasets)\n",
    "\n",
    "# Display the shape of each dataset\n",
    "data_loader.check_shapes()\n"
   ]
  },
  {
   "cell_type": "code",
   "execution_count": 27,
   "metadata": {},
   "outputs": [
    {
     "name": "stdout",
     "output_type": "stream",
     "text": [
      "Movies DataFrame Info:\n",
      "<class 'pandas.core.frame.DataFrame'>\n",
      "RangeIndex: 9742 entries, 0 to 9741\n",
      "Data columns (total 3 columns):\n",
      " #   Column   Non-Null Count  Dtype \n",
      "---  ------   --------------  ----- \n",
      " 0   movieId  9742 non-null   int64 \n",
      " 1   title    9742 non-null   object\n",
      " 2   genres   9742 non-null   object\n",
      "dtypes: int64(1), object(2)\n",
      "memory usage: 228.5+ KB\n",
      "\n",
      "Ratings DataFrame Info:\n",
      "<class 'pandas.core.frame.DataFrame'>\n",
      "RangeIndex: 100836 entries, 0 to 100835\n",
      "Data columns (total 4 columns):\n",
      " #   Column     Non-Null Count   Dtype  \n",
      "---  ------     --------------   -----  \n",
      " 0   userId     100836 non-null  int64  \n",
      " 1   movieId    100836 non-null  int64  \n",
      " 2   rating     100836 non-null  float64\n",
      " 3   timestamp  100836 non-null  int64  \n",
      "dtypes: float64(1), int64(3)\n",
      "memory usage: 3.1 MB\n",
      "\n",
      "Links DataFrame Info:\n",
      "<class 'pandas.core.frame.DataFrame'>\n",
      "RangeIndex: 9742 entries, 0 to 9741\n",
      "Data columns (total 3 columns):\n",
      " #   Column   Non-Null Count  Dtype  \n",
      "---  ------   --------------  -----  \n",
      " 0   movieId  9742 non-null   int64  \n",
      " 1   imdbId   9742 non-null   int64  \n",
      " 2   tmdbId   9734 non-null   float64\n",
      "dtypes: float64(1), int64(2)\n",
      "memory usage: 228.5 KB\n",
      "\n",
      "Tags DataFrame Info:\n",
      "<class 'pandas.core.frame.DataFrame'>\n",
      "RangeIndex: 3683 entries, 0 to 3682\n",
      "Data columns (total 4 columns):\n",
      " #   Column     Non-Null Count  Dtype \n",
      "---  ------     --------------  ----- \n",
      " 0   userId     3683 non-null   int64 \n",
      " 1   movieId    3683 non-null   int64 \n",
      " 2   tag        3683 non-null   object\n",
      " 3   timestamp  3683 non-null   int64 \n",
      "dtypes: int64(3), object(1)\n",
      "memory usage: 115.2+ KB\n"
     ]
    }
   ],
   "source": [
    "# Data Types Verification: \n",
    "print(\"Movies DataFrame Info:\")\n",
    "movies.info()\n",
    "\n",
    "print(\"\\nRatings DataFrame Info:\")\n",
    "ratings.info()\n",
    "\n",
    "print(\"\\nLinks DataFrame Info:\")\n",
    "links.info()\n",
    "\n",
    "print(\"\\nTags DataFrame Info:\")\n",
    "tags.info()"
   ]
  },
  {
   "cell_type": "code",
   "execution_count": 30,
   "metadata": {},
   "outputs": [
    {
     "name": "stdout",
     "output_type": "stream",
     "text": [
      "Missing Values in Movies DataFrame:\n",
      "movieId    0\n",
      "title      0\n",
      "genres     0\n",
      "dtype: int64\n",
      "\n",
      "Missing Values in Ratings DataFrame:\n",
      "userId       0\n",
      "movieId      0\n",
      "rating       0\n",
      "timestamp    0\n",
      "dtype: int64\n",
      "\n",
      "Missing Values in Links DataFrame:\n",
      "movieId    0\n",
      "imdbId     0\n",
      "tmdbId     8\n",
      "dtype: int64\n",
      "\n",
      "Missing Values in Tags DataFrame:\n",
      "userId       0\n",
      "movieId      0\n",
      "tag          0\n",
      "timestamp    0\n",
      "dtype: int64\n"
     ]
    }
   ],
   "source": [
    "# Check for missing values\n",
    "print(\"Missing Values in Movies DataFrame:\")\n",
    "print(movies.isnull().sum())\n",
    "\n",
    "print(\"\\nMissing Values in Ratings DataFrame:\")\n",
    "print(ratings.isnull().sum())\n",
    "\n",
    "print(\"\\nMissing Values in Links DataFrame:\")\n",
    "print(links.isnull().sum())\n",
    "\n",
    "print(\"\\nMissing Values in Tags DataFrame:\")\n",
    "print(tags.isnull().sum())"
   ]
  },
  {
   "cell_type": "code",
   "execution_count": 32,
   "metadata": {},
   "outputs": [
    {
     "name": "stdout",
     "output_type": "stream",
     "text": [
      "{'movies.csv': 0, 'ratings.csv': 0, 'tags.csv': 0, 'links.csv': 0}\n"
     ]
    }
   ],
   "source": [
    "# Check for duplicates in each dataset\n",
    "duplicates = {\n",
    "    \"movies.csv\": movies.duplicated().sum(),\n",
    "    \"ratings.csv\": ratings.duplicated().sum(),\n",
    "    \"tags.csv\": tags.duplicated().sum(),\n",
    "    \"links.csv\": links.duplicated().sum()\n",
    "}\n",
    "\n",
    "print(duplicates)"
   ]
  }
 ],
 "metadata": {
  "kernelspec": {
   "display_name": "Python (learn-env)",
   "language": "python",
   "name": "learn-env"
  },
  "language_info": {
   "codemirror_mode": {
    "name": "ipython",
    "version": 3
   },
   "file_extension": ".py",
   "mimetype": "text/x-python",
   "name": "python",
   "nbconvert_exporter": "python",
   "pygments_lexer": "ipython3",
   "version": "3.11.5"
  }
 },
 "nbformat": 4,
 "nbformat_minor": 2
}
