{
 "cells": [
  {
   "cell_type": "markdown",
   "metadata": {},
   "source": [
    "## Final Project Submission\n",
    "\n",
    "Please fill out:\n",
    "\n",
    "* Student names: JEREMIAH WAIGURU,PAUL NGATIA,WINFRED BUNDI,MERCY KIRAGU.\n",
    "                 \n",
    "* Student pace: Full time-Hybrid\n",
    "* Scheduled project review date/time: \n",
    "* Instructor name: Maryann Mwikali\n",
    "* Blog post URL: \n"
   ]
  },
  {
   "cell_type": "markdown",
   "metadata": {},
   "source": []
  }
 ],
 "metadata": {
  "language_info": {
   "name": "python"
  }
 },
 "nbformat": 4,
 "nbformat_minor": 2
}
